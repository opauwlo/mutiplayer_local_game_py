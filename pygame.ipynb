{
 "cells": [
  {
   "cell_type": "code",
   "execution_count": 3,
   "metadata": {},
   "outputs": [],
   "source": []
  },
  {
   "cell_type": "code",
   "execution_count": 1,
   "metadata": {},
   "outputs": [
    {
     "name": "stdout",
     "output_type": "stream",
     "text": [
      "pygame 2.0.1 (SDL 2.0.14, Python 3.8.5)\n",
      "Hello from the pygame community. https://www.pygame.org/contribute.html\n"
     ]
    },
    {
     "ename": "SystemExit",
     "evalue": "",
     "output_type": "error",
     "traceback": [
      "An exception has occurred, use %tb to see the full traceback.\n",
      "\u001b[0;31mSystemExit\u001b[0m\n"
     ]
    },
    {
     "name": "stderr",
     "output_type": "stream",
     "text": [
      "/home/pauwlo/.local/lib/python3.8/site-packages/IPython/core/interactiveshell.py:3445: UserWarning: To exit: use 'exit', 'quit', or Ctrl-D.\n",
      "  warn(\"To exit: use 'exit', 'quit', or Ctrl-D.\", stacklevel=1)\n"
     ]
    }
   ],
   "source": [
    "import pygame\n",
    "from pygame.locals import *\n",
    "from sys import exit\n",
    "from random import randint\n",
    "\n",
    "pygame.init()\n",
    "\n",
    "LARGURA = 640\n",
    "ALTURA = 480\n",
    "X_RED = LARGURA//2\n",
    "Y_RED = ALTURA//2\n",
    "X_BLUE = randint(40,640)\n",
    "Y_BLUE = randint(50, 430)\n",
    "tela = pygame.display.set_mode((LARGURA,ALTURA))\n",
    "pygame.display.set_caption('oJogo')\n",
    "relogio = pygame.time.Clock()\n",
    "\n",
    "while True:\n",
    "    relogio.tick(120)\n",
    "    tela.fill((0,0,0))\n",
    "    for event in pygame.event.get():\n",
    "        if event.type == QUIT:\n",
    "            pygame.quit()\n",
    "            exit()\n",
    "            \n",
    "        '''if event.type == KEYDOWN:\n",
    "            if event.key == K_a:\n",
    "                X = X - 20\n",
    "                \n",
    "            if event.key == K_d:\n",
    "                X = X + 20\n",
    "                \n",
    "            if event.key == K_w:\n",
    "                Y = Y - 20\n",
    "                \n",
    "            if event.key == K_s:\n",
    "                Y = Y + 20'''\n",
    "                \n",
    "        if pygame.key.get_pressed()[K_a]:\n",
    "            X_RED -= 15\n",
    "            \n",
    "        if pygame.key.get_pressed()[K_d]:\n",
    "            X_RED += 15\n",
    "            \n",
    "        if pygame.key.get_pressed()[K_w]:\n",
    "            Y_RED -= 15\n",
    "            \n",
    "        if pygame.key.get_pressed()[K_s]:\n",
    "            Y_RED += 15\n",
    "         \n",
    "        if X_RED >= LARGURA:\n",
    "            X_RED = 0\n",
    "        \n",
    "        if X_RED < 0:\n",
    "            X_RED = LARGURA\n",
    "            \n",
    "        if Y_RED >= ALTURA:\n",
    "            Y_RED = 0\n",
    "            \n",
    "        if Y_RED < 0:\n",
    "            Y_RED = ALTURA\n",
    "            \n",
    "            \n",
    "            \n",
    "        if pygame.key.get_pressed()[K_LEFT]:\n",
    "            X_BLUE -= 15\n",
    "            \n",
    "        if pygame.key.get_pressed()[K_RIGHT]:\n",
    "            X_BLUE += 15\n",
    "            \n",
    "        if pygame.key.get_pressed()[K_UP]:\n",
    "            Y_BLUE -= 15\n",
    "            \n",
    "        if pygame.key.get_pressed()[K_DOWN]:\n",
    "            Y_BLUE += 15\n",
    "         \n",
    "        if X_BLUE >= LARGURA:\n",
    "            X_BLUE = 0\n",
    "        \n",
    "        if X_BLUE < 0:\n",
    "            X_BLUE = LARGURA\n",
    "            \n",
    "        if Y_BLUE >= ALTURA:\n",
    "            Y_BLUE = 0\n",
    "            \n",
    "        if Y_BLUE < 0:\n",
    "            Y_BLUE = ALTURA\n",
    "            \n",
    "        ret_red = pygame.draw.circle(tela,(255,0,0),(X_RED,Y_RED),(10))\n",
    "        ret_blue = pygame.draw.circle(tela,(0,0,255),(X_BLUE,Y_BLUE),(10))\n",
    "        \n",
    "        if ret_red.colliderect(ret_blue):\n",
    "            print('PEGO')\n",
    "            X_BLUE = randint(40,640)\n",
    "            Y_BLUE = randint(50, 430)\n",
    "        \n",
    "        \n",
    "        #pygame.draw.circle(tela,(0,0,120),(300,270),(80))\n",
    "        #pygame.draw.line(tela,(255,255,0),(480,0),(390,600),(3))\n",
    "\n",
    "        pygame.display.update()"
   ]
  }
 ],
 "metadata": {
  "kernelspec": {
   "display_name": "Python 3",
   "language": "python",
   "name": "python3"
  },
  "language_info": {
   "codemirror_mode": {
    "name": "ipython",
    "version": 3
   },
   "file_extension": ".py",
   "mimetype": "text/x-python",
   "name": "python",
   "nbconvert_exporter": "python",
   "pygments_lexer": "ipython3",
   "version": "3.8.5"
  }
 },
 "nbformat": 4,
 "nbformat_minor": 4
}
